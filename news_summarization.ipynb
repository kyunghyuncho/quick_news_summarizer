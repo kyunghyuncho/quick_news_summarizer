{
 "cells": [
  {
   "cell_type": "code",
   "execution_count": 1,
   "metadata": {},
   "outputs": [
    {
     "name": "stdout",
     "output_type": "stream",
     "text": [
      "Requirement already satisfied: transformers in /system/conda/miniconda3/envs/cloudspace/lib/python3.10/site-packages (4.39.3)\n",
      "Requirement already satisfied: filelock in /system/conda/miniconda3/envs/cloudspace/lib/python3.10/site-packages (from transformers) (3.13.4)\n",
      "Requirement already satisfied: huggingface-hub<1.0,>=0.19.3 in /system/conda/miniconda3/envs/cloudspace/lib/python3.10/site-packages (from transformers) (0.22.2)\n",
      "Requirement already satisfied: numpy>=1.17 in /system/conda/miniconda3/envs/cloudspace/lib/python3.10/site-packages (from transformers) (1.26.2)\n",
      "Requirement already satisfied: packaging>=20.0 in /system/conda/miniconda3/envs/cloudspace/lib/python3.10/site-packages (from transformers) (24.0)\n",
      "Requirement already satisfied: pyyaml>=5.1 in /system/conda/miniconda3/envs/cloudspace/lib/python3.10/site-packages (from transformers) (6.0.1)\n",
      "Requirement already satisfied: regex!=2019.12.17 in /system/conda/miniconda3/envs/cloudspace/lib/python3.10/site-packages (from transformers) (2023.12.25)\n",
      "Requirement already satisfied: requests in /system/conda/miniconda3/envs/cloudspace/lib/python3.10/site-packages (from transformers) (2.31.0)\n",
      "Requirement already satisfied: tokenizers<0.19,>=0.14 in /system/conda/miniconda3/envs/cloudspace/lib/python3.10/site-packages (from transformers) (0.15.2)\n",
      "Requirement already satisfied: safetensors>=0.4.1 in /system/conda/miniconda3/envs/cloudspace/lib/python3.10/site-packages (from transformers) (0.4.2)\n",
      "Requirement already satisfied: tqdm>=4.27 in /system/conda/miniconda3/envs/cloudspace/lib/python3.10/site-packages (from transformers) (4.66.2)\n",
      "Requirement already satisfied: fsspec>=2023.5.0 in /system/conda/miniconda3/envs/cloudspace/lib/python3.10/site-packages (from huggingface-hub<1.0,>=0.19.3->transformers) (2024.2.0)\n",
      "Requirement already satisfied: typing-extensions>=3.7.4.3 in /system/conda/miniconda3/envs/cloudspace/lib/python3.10/site-packages (from huggingface-hub<1.0,>=0.19.3->transformers) (4.11.0)\n",
      "Requirement already satisfied: charset-normalizer<4,>=2 in /system/conda/miniconda3/envs/cloudspace/lib/python3.10/site-packages (from requests->transformers) (3.3.2)\n",
      "Requirement already satisfied: idna<4,>=2.5 in /system/conda/miniconda3/envs/cloudspace/lib/python3.10/site-packages (from requests->transformers) (3.7)\n",
      "Requirement already satisfied: urllib3<3,>=1.21.1 in /system/conda/miniconda3/envs/cloudspace/lib/python3.10/site-packages (from requests->transformers) (2.2.1)\n",
      "Requirement already satisfied: certifi>=2017.4.17 in /system/conda/miniconda3/envs/cloudspace/lib/python3.10/site-packages (from requests->transformers) (2024.2.2)\n",
      "Requirement already satisfied: optimum in /system/conda/miniconda3/envs/cloudspace/lib/python3.10/site-packages (1.18.1)\n",
      "Requirement already satisfied: coloredlogs in /system/conda/miniconda3/envs/cloudspace/lib/python3.10/site-packages (from optimum) (15.0.1)\n",
      "Requirement already satisfied: sympy in /system/conda/miniconda3/envs/cloudspace/lib/python3.10/site-packages (from optimum) (1.12)\n",
      "Requirement already satisfied: transformers<4.40.0,>=4.26.0 in /system/conda/miniconda3/envs/cloudspace/lib/python3.10/site-packages (from transformers[sentencepiece]<4.40.0,>=4.26.0->optimum) (4.39.3)\n",
      "Requirement already satisfied: torch>=1.11 in /system/conda/miniconda3/envs/cloudspace/lib/python3.10/site-packages (from optimum) (2.2.1+cu121)\n",
      "Requirement already satisfied: packaging in /system/conda/miniconda3/envs/cloudspace/lib/python3.10/site-packages (from optimum) (24.0)\n",
      "Requirement already satisfied: numpy in /system/conda/miniconda3/envs/cloudspace/lib/python3.10/site-packages (from optimum) (1.26.2)\n",
      "Requirement already satisfied: huggingface-hub>=0.8.0 in /system/conda/miniconda3/envs/cloudspace/lib/python3.10/site-packages (from optimum) (0.22.2)\n",
      "Requirement already satisfied: datasets in /system/conda/miniconda3/envs/cloudspace/lib/python3.10/site-packages (from optimum) (2.18.0)\n",
      "Requirement already satisfied: filelock in /system/conda/miniconda3/envs/cloudspace/lib/python3.10/site-packages (from huggingface-hub>=0.8.0->optimum) (3.13.4)\n",
      "Requirement already satisfied: fsspec>=2023.5.0 in /system/conda/miniconda3/envs/cloudspace/lib/python3.10/site-packages (from huggingface-hub>=0.8.0->optimum) (2024.2.0)\n",
      "Requirement already satisfied: pyyaml>=5.1 in /system/conda/miniconda3/envs/cloudspace/lib/python3.10/site-packages (from huggingface-hub>=0.8.0->optimum) (6.0.1)\n",
      "Requirement already satisfied: requests in /system/conda/miniconda3/envs/cloudspace/lib/python3.10/site-packages (from huggingface-hub>=0.8.0->optimum) (2.31.0)\n",
      "Requirement already satisfied: tqdm>=4.42.1 in /system/conda/miniconda3/envs/cloudspace/lib/python3.10/site-packages (from huggingface-hub>=0.8.0->optimum) (4.66.2)\n",
      "Requirement already satisfied: typing-extensions>=3.7.4.3 in /system/conda/miniconda3/envs/cloudspace/lib/python3.10/site-packages (from huggingface-hub>=0.8.0->optimum) (4.11.0)\n",
      "Requirement already satisfied: networkx in /system/conda/miniconda3/envs/cloudspace/lib/python3.10/site-packages (from torch>=1.11->optimum) (3.3)\n",
      "Requirement already satisfied: jinja2 in /system/conda/miniconda3/envs/cloudspace/lib/python3.10/site-packages (from torch>=1.11->optimum) (3.1.3)\n",
      "Requirement already satisfied: nvidia-cuda-nvrtc-cu12==12.1.105 in /system/conda/miniconda3/envs/cloudspace/lib/python3.10/site-packages (from torch>=1.11->optimum) (12.1.105)\n",
      "Requirement already satisfied: nvidia-cuda-runtime-cu12==12.1.105 in /system/conda/miniconda3/envs/cloudspace/lib/python3.10/site-packages (from torch>=1.11->optimum) (12.1.105)\n",
      "Requirement already satisfied: nvidia-cuda-cupti-cu12==12.1.105 in /system/conda/miniconda3/envs/cloudspace/lib/python3.10/site-packages (from torch>=1.11->optimum) (12.1.105)\n",
      "Requirement already satisfied: nvidia-cudnn-cu12==8.9.2.26 in /system/conda/miniconda3/envs/cloudspace/lib/python3.10/site-packages (from torch>=1.11->optimum) (8.9.2.26)\n",
      "Requirement already satisfied: nvidia-cublas-cu12==12.1.3.1 in /system/conda/miniconda3/envs/cloudspace/lib/python3.10/site-packages (from torch>=1.11->optimum) (12.1.3.1)\n",
      "Requirement already satisfied: nvidia-cufft-cu12==11.0.2.54 in /system/conda/miniconda3/envs/cloudspace/lib/python3.10/site-packages (from torch>=1.11->optimum) (11.0.2.54)\n",
      "Requirement already satisfied: nvidia-curand-cu12==10.3.2.106 in /system/conda/miniconda3/envs/cloudspace/lib/python3.10/site-packages (from torch>=1.11->optimum) (10.3.2.106)\n",
      "Requirement already satisfied: nvidia-cusolver-cu12==11.4.5.107 in /system/conda/miniconda3/envs/cloudspace/lib/python3.10/site-packages (from torch>=1.11->optimum) (11.4.5.107)\n",
      "Requirement already satisfied: nvidia-cusparse-cu12==12.1.0.106 in /system/conda/miniconda3/envs/cloudspace/lib/python3.10/site-packages (from torch>=1.11->optimum) (12.1.0.106)\n",
      "Requirement already satisfied: nvidia-nccl-cu12==2.19.3 in /system/conda/miniconda3/envs/cloudspace/lib/python3.10/site-packages (from torch>=1.11->optimum) (2.19.3)\n",
      "Requirement already satisfied: nvidia-nvtx-cu12==12.1.105 in /system/conda/miniconda3/envs/cloudspace/lib/python3.10/site-packages (from torch>=1.11->optimum) (12.1.105)\n",
      "Requirement already satisfied: triton==2.2.0 in /system/conda/miniconda3/envs/cloudspace/lib/python3.10/site-packages (from torch>=1.11->optimum) (2.2.0)\n",
      "Requirement already satisfied: nvidia-nvjitlink-cu12 in /system/conda/miniconda3/envs/cloudspace/lib/python3.10/site-packages (from nvidia-cusolver-cu12==11.4.5.107->torch>=1.11->optimum) (12.4.127)\n",
      "Requirement already satisfied: regex!=2019.12.17 in /system/conda/miniconda3/envs/cloudspace/lib/python3.10/site-packages (from transformers<4.40.0,>=4.26.0->transformers[sentencepiece]<4.40.0,>=4.26.0->optimum) (2023.12.25)\n",
      "Requirement already satisfied: tokenizers<0.19,>=0.14 in /system/conda/miniconda3/envs/cloudspace/lib/python3.10/site-packages (from transformers<4.40.0,>=4.26.0->transformers[sentencepiece]<4.40.0,>=4.26.0->optimum) (0.15.2)\n",
      "Requirement already satisfied: safetensors>=0.4.1 in /system/conda/miniconda3/envs/cloudspace/lib/python3.10/site-packages (from transformers<4.40.0,>=4.26.0->transformers[sentencepiece]<4.40.0,>=4.26.0->optimum) (0.4.2)\n",
      "Requirement already satisfied: sentencepiece!=0.1.92,>=0.1.91 in /system/conda/miniconda3/envs/cloudspace/lib/python3.10/site-packages (from transformers[sentencepiece]<4.40.0,>=4.26.0->optimum) (0.2.0)\n",
      "Requirement already satisfied: protobuf in /system/conda/miniconda3/envs/cloudspace/lib/python3.10/site-packages (from transformers[sentencepiece]<4.40.0,>=4.26.0->optimum) (4.23.4)\n",
      "Requirement already satisfied: humanfriendly>=9.1 in /system/conda/miniconda3/envs/cloudspace/lib/python3.10/site-packages (from coloredlogs->optimum) (10.0)\n",
      "Requirement already satisfied: pyarrow>=12.0.0 in /system/conda/miniconda3/envs/cloudspace/lib/python3.10/site-packages (from datasets->optimum) (15.0.2)\n",
      "Requirement already satisfied: pyarrow-hotfix in /system/conda/miniconda3/envs/cloudspace/lib/python3.10/site-packages (from datasets->optimum) (0.6)\n",
      "Requirement already satisfied: dill<0.3.9,>=0.3.0 in /system/conda/miniconda3/envs/cloudspace/lib/python3.10/site-packages (from datasets->optimum) (0.3.8)\n",
      "Requirement already satisfied: pandas in /system/conda/miniconda3/envs/cloudspace/lib/python3.10/site-packages (from datasets->optimum) (2.1.4)\n",
      "Requirement already satisfied: xxhash in /system/conda/miniconda3/envs/cloudspace/lib/python3.10/site-packages (from datasets->optimum) (3.4.1)\n",
      "Requirement already satisfied: multiprocess in /system/conda/miniconda3/envs/cloudspace/lib/python3.10/site-packages (from datasets->optimum) (0.70.16)\n",
      "Requirement already satisfied: aiohttp in /system/conda/miniconda3/envs/cloudspace/lib/python3.10/site-packages (from datasets->optimum) (3.9.3)\n",
      "Requirement already satisfied: mpmath>=0.19 in /system/conda/miniconda3/envs/cloudspace/lib/python3.10/site-packages (from sympy->optimum) (1.3.0)\n",
      "Requirement already satisfied: aiosignal>=1.1.2 in /system/conda/miniconda3/envs/cloudspace/lib/python3.10/site-packages (from aiohttp->datasets->optimum) (1.3.1)\n",
      "Requirement already satisfied: attrs>=17.3.0 in /system/conda/miniconda3/envs/cloudspace/lib/python3.10/site-packages (from aiohttp->datasets->optimum) (23.2.0)\n",
      "Requirement already satisfied: frozenlist>=1.1.1 in /system/conda/miniconda3/envs/cloudspace/lib/python3.10/site-packages (from aiohttp->datasets->optimum) (1.4.1)\n",
      "Requirement already satisfied: multidict<7.0,>=4.5 in /system/conda/miniconda3/envs/cloudspace/lib/python3.10/site-packages (from aiohttp->datasets->optimum) (6.0.5)\n",
      "Requirement already satisfied: yarl<2.0,>=1.0 in /system/conda/miniconda3/envs/cloudspace/lib/python3.10/site-packages (from aiohttp->datasets->optimum) (1.9.4)\n",
      "Requirement already satisfied: async-timeout<5.0,>=4.0 in /system/conda/miniconda3/envs/cloudspace/lib/python3.10/site-packages (from aiohttp->datasets->optimum) (4.0.3)\n",
      "Requirement already satisfied: charset-normalizer<4,>=2 in /system/conda/miniconda3/envs/cloudspace/lib/python3.10/site-packages (from requests->huggingface-hub>=0.8.0->optimum) (3.3.2)\n",
      "Requirement already satisfied: idna<4,>=2.5 in /system/conda/miniconda3/envs/cloudspace/lib/python3.10/site-packages (from requests->huggingface-hub>=0.8.0->optimum) (3.7)\n",
      "Requirement already satisfied: urllib3<3,>=1.21.1 in /system/conda/miniconda3/envs/cloudspace/lib/python3.10/site-packages (from requests->huggingface-hub>=0.8.0->optimum) (2.2.1)\n",
      "Requirement already satisfied: certifi>=2017.4.17 in /system/conda/miniconda3/envs/cloudspace/lib/python3.10/site-packages (from requests->huggingface-hub>=0.8.0->optimum) (2024.2.2)\n",
      "Requirement already satisfied: MarkupSafe>=2.0 in /system/conda/miniconda3/envs/cloudspace/lib/python3.10/site-packages (from jinja2->torch>=1.11->optimum) (2.1.5)\n",
      "Requirement already satisfied: python-dateutil>=2.8.2 in /system/conda/miniconda3/envs/cloudspace/lib/python3.10/site-packages (from pandas->datasets->optimum) (2.9.0.post0)\n",
      "Requirement already satisfied: pytz>=2020.1 in /system/conda/miniconda3/envs/cloudspace/lib/python3.10/site-packages (from pandas->datasets->optimum) (2024.1)\n",
      "Requirement already satisfied: tzdata>=2022.1 in /system/conda/miniconda3/envs/cloudspace/lib/python3.10/site-packages (from pandas->datasets->optimum) (2024.1)\n",
      "Requirement already satisfied: six>=1.5 in /system/conda/miniconda3/envs/cloudspace/lib/python3.10/site-packages (from python-dateutil>=2.8.2->pandas->datasets->optimum) (1.16.0)\n"
     ]
    }
   ],
   "source": [
    "# install transformers\n",
    "!pip install transformers"
   ]
  },
  {
   "cell_type": "code",
   "execution_count": 3,
   "metadata": {},
   "outputs": [
    {
     "name": "stdout",
     "output_type": "stream",
     "text": [
      "Using cuda\n"
     ]
    }
   ],
   "source": [
    "import torch\n",
    "from transformers import AutoTokenizer, AutoModelForCausalLM, GPTQConfig\n",
    "\n",
    "device = \"cuda\" if torch.cuda.is_available() else \"cpu\"\n",
    "print(f'Using {device}')"
   ]
  },
  {
   "cell_type": "code",
   "execution_count": 4,
   "metadata": {},
   "outputs": [
    {
     "data": {
      "application/vnd.jupyter.widget-view+json": {
       "model_id": "2845ebd0de2741c4968126709fd8d8c2",
       "version_major": 2,
       "version_minor": 0
      },
      "text/plain": [
       "config.json:   0%|          | 0.00/618 [00:00<?, ?B/s]"
      ]
     },
     "metadata": {},
     "output_type": "display_data"
    },
    {
     "data": {
      "application/vnd.jupyter.widget-view+json": {
       "model_id": "e215f6cfd9994b929b29751ae727dee6",
       "version_major": 2,
       "version_minor": 0
      },
      "text/plain": [
       "config.json:   0%|          | 0.00/618 [00:00<?, ?B/s]"
      ]
     },
     "metadata": {},
     "output_type": "display_data"
    },
    {
     "data": {
      "application/vnd.jupyter.widget-view+json": {
       "model_id": "248bd2876a5b4c8dbcbf3e3391ae277b",
       "version_major": 2,
       "version_minor": 0
      },
      "text/plain": [
       "model.safetensors.index.json:   0%|          | 0.00/13.5k [00:00<?, ?B/s]"
      ]
     },
     "metadata": {},
     "output_type": "display_data"
    },
    {
     "data": {
      "application/vnd.jupyter.widget-view+json": {
       "model_id": "345ee832d1a34f6e928e37efdb8491aa",
       "version_major": 2,
       "version_minor": 0
      },
      "text/plain": [
       "Downloading shards:   0%|          | 0/2 [00:00<?, ?it/s]"
      ]
     },
     "metadata": {},
     "output_type": "display_data"
    },
    {
     "data": {
      "application/vnd.jupyter.widget-view+json": {
       "model_id": "852a4556d5fc4e5a892ef4b11d7e3b42",
       "version_major": 2,
       "version_minor": 0
      },
      "text/plain": [
       "model-00001-of-00002.safetensors:   0%|          | 0.00/4.95G [00:00<?, ?B/s]"
      ]
     },
     "metadata": {},
     "output_type": "display_data"
    },
    {
     "data": {
      "application/vnd.jupyter.widget-view+json": {
       "model_id": "eecc4df67ca84067a1114a698b8c2395",
       "version_major": 2,
       "version_minor": 0
      },
      "text/plain": [
       "model-00002-of-00002.safetensors:   0%|          | 0.00/67.1M [00:00<?, ?B/s]"
      ]
     },
     "metadata": {},
     "output_type": "display_data"
    },
    {
     "data": {
      "application/vnd.jupyter.widget-view+json": {
       "model_id": "681b5764e56e42b1b673c5d494936111",
       "version_major": 2,
       "version_minor": 0
      },
      "text/plain": [
       "Loading checkpoint shards:   0%|          | 0/2 [00:00<?, ?it/s]"
      ]
     },
     "metadata": {},
     "output_type": "display_data"
    },
    {
     "data": {
      "application/vnd.jupyter.widget-view+json": {
       "model_id": "417c691a144340c3b1a1856b515acd6f",
       "version_major": 2,
       "version_minor": 0
      },
      "text/plain": [
       "generation_config.json:   0%|          | 0.00/132 [00:00<?, ?B/s]"
      ]
     },
     "metadata": {},
     "output_type": "display_data"
    }
   ],
   "source": [
    "hf_token = \"hf_your_token_here\"\n",
    "\n",
    "tokenizer = AutoTokenizer.from_pretrained(\"google/gemma-1.1-2b-it\", token=hf_token)\n",
    "model = AutoModelForCausalLM.from_pretrained(\"google/gemma-1.1-2b-it\", token=hf_token, force_download=True)"
   ]
  },
  {
   "cell_type": "code",
   "execution_count": 5,
   "metadata": {},
   "outputs": [],
   "source": [
    "# Lower the prceision of the model parameters to reduce memory footprint\n",
    "model = model.half()\n",
    "# push the model to the device\n",
    "model = model.to(device)"
   ]
  },
  {
   "cell_type": "code",
   "execution_count": 6,
   "metadata": {},
   "outputs": [],
   "source": [
    "# use newsapi.org's API to get the latest headlines from wall street journal\n",
    "import requests\n",
    "import json\n",
    "\n",
    "# get the API key from newsapi.org\n",
    "api_key = 'your api key'"
   ]
  },
  {
   "cell_type": "code",
   "execution_count": 7,
   "metadata": {},
   "outputs": [],
   "source": [
    "# get the latest headlines from wall street journal\n",
    "url = f'https://newsapi.org/v2/top-headlines?country=us&language=en&apiKey={api_key}'\n",
    "response = requests.get(url)\n",
    "data = response.json()"
   ]
  },
  {
   "cell_type": "code",
   "execution_count": 16,
   "metadata": {},
   "outputs": [],
   "source": [
    "max_headlines = 100\n",
    "\n",
    "# create a prompt for listing up all the headlines and create a summary\n",
    "prompt = \"# Today's Headlines\\n\\n\"\n",
    "\n",
    "headlines = []\n",
    "for aidx, article in enumerate(data['articles']):\n",
    "    if aidx > max_headlines:\n",
    "        break\n",
    "    if \"Removed\" in article['title']:\n",
    "        continue\n",
    "    new_headline = f\"{aidx+1}. {article['title'].strip()} \"\n",
    "    new_headline += f\"(URL: {str(article['url']).strip()}) \"\n",
    "    new_headline += str(article['description']).strip().replace('\\n', '...')\n",
    "    new_headline += \"\\n\"\n",
    "    prompt += new_headline\n",
    "\n",
    "prompt += \"\\n# Analysis and Today's Recommendations across Topics for Our Readers\\n\\n\""
   ]
  },
  {
   "cell_type": "code",
   "execution_count": 9,
   "metadata": {},
   "outputs": [
    {
     "name": "stderr",
     "output_type": "stream",
     "text": [
      "/home/zeus/miniconda3/envs/cloudspace/lib/python3.10/site-packages/transformers/generation/configuration_utils.py:492: UserWarning: `do_sample` is set to `False`. However, `temperature` is set to `0.9` -- this flag is only used in sample-based generation modes. You should set `do_sample=True` or unset `temperature`.\n",
      "  warnings.warn(\n"
     ]
    }
   ],
   "source": [
    "with torch.no_grad():\n",
    "    input_ids = tokenizer.encode(prompt, return_tensors=\"pt\")\n",
    "    input_ids = input_ids.to(device)\n",
    "    output = model.generate(input_ids, max_length=input_ids.size(1)+512, do_sample=False, temperature=0.9)\n",
    "    output_text = tokenizer.decode(output[0], skip_special_tokens=True)"
   ]
  },
  {
   "cell_type": "code",
   "execution_count": 10,
   "metadata": {},
   "outputs": [
    {
     "data": {
      "text/markdown": [
       "# Today's Headlines\n",
       "\n",
       "1. Latest 2024 election news: Harris heading to Arizona to hammer Trump on abortion policy - The Washington Post (URL: https://www.washingtonpost.com/elections/2024/04/12/election-2024-campaign-updates/) Live updates from the 2024 campaign trail with the latest news on presidential candidates, polls, primaries and more.\n",
       "2. Stocks waver on fears of potential attack by Iran and inflation jitters - CNN (URL: https://www.cnn.com/2024/04/12/investing/stocks-oil-banks-geopolitics/index.html) US stocks fell sharply Friday as Wall Street worried about escalating tension in the Middle East.\n",
       "3. Suspect dead after shootout with police had been arrested, released in March, records show - WREG NewsChannel 3 (URL: https://wreg.com/news/local/suspect-dead-after-shootout-with-police-had-been-arrested-released-in-march-records-show/) MEMPHIS, Tenn. — The 18-year-old suspect killed in a shootout that also killed a Memphis Police officer and wounded three others had been arrested just over a month ago, but was released from jail, records show. A source close to the investigation confirmed t…\n",
       "4. Box Office: ‘Civil War’ Makes $2.9 Million in Previews, Best Ever for an A24 Movie - Variety (URL: https://variety.com/2024/film/box-office/box-office-civil-war-thursday-previews-1235968957/) 'Civil War' makes $2.9 million at the box office in Thursday previews.\n",
       "5. The best allergy products to help you survive this season, according to experts - CNN Underscored (URL: https://www.cnn.com/cnn-underscored/health-fitness/best-allergy-products) It’s allergy season yet again, and these best allergy products will help you stay comfortable — even outdoors — by fending off the effects of pollen.\n",
       "6. Netanyahu meets top officials as fears of Iran attack on Israel grow - BBC.com (URL: https://www.bbc.com/news/world-middle-east-68796363) US officials have told CBS News that Iran is ready to launch a major strike against Israel imminently.\n",
       "7. Former NIH director reveals prostate cancer diagnosis - The Hill (URL: https://thehill.com/policy/healthcare/4590148-francis-collins-nih-director-prostate-cancer/) The former director of the National Institutes of Health (NIH), Francis S. Collins, revealed his prostate cancer diagnosis and detailed his decision to go public with it in an essay published by The Washington Post on Friday.  Collins said he knew his prostat…\n",
       "8. Tiger Woods 1 over, 8 shots back after 1st round at the Masters - ESPN (URL: https://www.espn.com/golf/story/_/id/39927730/tiger-woods-1-8-shots-back-1st-round-masters) Tiger Woods finished his first round at the Masters on Friday morning, carding a 1-over 73 that put him 8 shots behind leader Bryson DeChambeau.\n",
       "9. The Masters leader? It's the 'little bit smarter' version of Bryson DeChambeau - The Athletic (URL: https://theathletic.com/5409714/2024/04/11/masters-bryson-dechambeau-leader/) DeChambeau's first-round 65 has him atop the leaderboard after Day 1 at Augusta National.\n",
       "10. 'Golden Bachelor' couple Gerry Turner and Theresa Nist announce they are divorcing - Good Morning America (URL: https://goodmorningamerica.com/culture/story/golden-bachelor-couple-gerry-turner-theresa-nist-announce-109148023) Gerry Turner and Theresa Nist announced in an interview with \"Good Morning America\" that they are divorcing.\n",
       "11. Conservatives clash with Trump on leaving abortion up to voters - POLITICO (URL: https://www.politico.com/news/2024/04/12/conservatives-trump-abortion-voters-states-00151866) None\n",
       "12. Apple Signal of AI Intent Unleashes $112 Billion Stock Surge - Yahoo Finance (URL: https://finance.yahoo.com/news/apple-signal-ai-intent-unleashes-114945606.html) (Bloomberg) -- The stock market has punished Apple Inc. this year for failing to offer a vision of where its future growth will come from. The shares caught ...\n",
       "13. Why there are 861 roguelike deckbuilders on Steam all of a sudden - Ars Technica (URL: https://arstechnica.com/gaming/2024/04/why-there-are-861-roguelike-deckbuilders-on-steam-all-of-a-sudden/) 9 answers from 8 devs about why combat card games on screens have blown up.\n",
       "14. Dozens of Palestinians killed in Gaza as Hamas official vows to 'break' Israel - Yahoo! Voices (URL: https://www.yahoo.com/news/dozens-palestinians-killed-gaza-hamas-130647886.html) Israeli forces fought Palestinian militants in the north and centre of the Gaza Strip on Friday as Khaled Meshaal, a senior official in Gaza's ruling Hamas...\n",
       "15. Humane Ai Pin reviews: Top 5 common complaints about the 'smartphone killer' - Mashable (URL: https://mashable.com/article/humane-ai-pin-reviews) The critics are being tough on this screenless device.\n",
       "16. Pittsburgh flooded as severe storms hit Ohio Valley, Mid-Atlantic - Axios (URL: https://www.axios.com/2024/04/12/storms-pittsburgh-ohio-valley-flooding) None\n",
       "17. Biden is canceling $7.4 billion in student debt for 277,000 borrowers. Here's who is eligible. - CBS News (URL: https://www.cbsnews.com/news/student-loan-forgiveness-7-4-billion-save-plan-pslf-cbs-news-explains/) The White House is turning to other methods to erase student debt after the Supreme Court blocked its broader effort to forgive loans.\n",
       "18. CDC warns measles poses 'renewed' threat to U.S., Trump and Johnson push ban on noncitizen voting, and Tom Brady floats NFL return - Yahoo! Voices (URL: https://www.yahoo.com/news/cdc-warns-measles-poses-renewed-threat-to-us-trump-and-johnson-push-ban-on-noncitizen-voting-and-tom-brady-floats-nfl-return-122408477.html) The stories you need to start your day: CDC warns of measles spike, the ‘Bridgerton’ Season 3 trailer and more in today’s edition of The Yodel newsletter\n",
       "19. JPMorgan shares slip as outlook overshadows profit rise - Financial Times (URL: https://www.ft.com/content/9270b202-a92d-438d-920d-31c1273c0b2a) Shares in largest US bank fall almost 5% in early trading as investors recalibrate interest rate expectations\n",
       "20. Citigroup tops estimates for first-quarter revenue on better-than-expected Wall Street results - CNBC (URL: https://www.cnbc.com/2024/04/12/citigroup-c-earnings-q1-2024.html) Citigroup posted first-quarter revenue that topped estimates, helped by better-than-expected results in the bank's investment banking and trading operations.\n",
       "\n",
       "# Analysis and Today's Recommendations across Topics for Our Readers\n",
       "\n",
       "**1. Political Landscape and Elections:**\n",
       "\n",
       "- Focus on the ongoing 2024 election campaign and its implications for key issues like abortion, immigration, and the economy.\n",
       "- Discuss the potential for a Republican wave or the impact of economic anxieties on voter turnout.\n",
       "\n",
       "\n",
       "**2. Business and Finance:**\n",
       "\n",
       "- Analyze the stock market performance and its potential impact on different industries.\n",
       "- Discuss the challenges and opportunities for businesses operating in a volatile economic environment.\n",
       "\n",
       "\n",
       "**3. Health and Wellness:**\n",
       "\n",
       "- Highlight the increasing concerns about allergies and the best products to combat them.\n",
       "- Discuss the latest medical advancements and treatments for common health conditions.\n",
       "\n",
       "\n",
       "**4. Entertainment and Sports:**\n",
       "\n",
       "- Discuss the latest developments in the entertainment industry, including the premiere of \"Civil War\" and Tiger Woods' performance at the Masters.\n",
       "- Analyze the ongoing rivalry between Bryson DeChambeau and Tiger Woods.\n",
       "\n",
       "\n",
       "**5. Social Issues and Politics:**\n",
       "\n",
       "- Discuss the growing tensions between conservatives and Trump on abortion and immigration.\n",
       "- Explore the debate over student debt forgiveness and its potential impact on the economy."
      ],
      "text/plain": [
       "<IPython.core.display.Markdown object>"
      ]
     },
     "metadata": {},
     "output_type": "display_data"
    }
   ],
   "source": [
    "from IPython.display import display, Markdown, Latex\n",
    "\n",
    "display(Markdown(output_text))"
   ]
  },
  {
   "cell_type": "code",
   "execution_count": null,
   "metadata": {},
   "outputs": [],
   "source": []
  }
 ],
 "metadata": {
  "kernelspec": {
   "display_name": "cloudspace",
   "language": "python",
   "name": "python3"
  },
  "language_info": {
   "codemirror_mode": {
    "name": "ipython",
    "version": 3
   },
   "file_extension": ".py",
   "mimetype": "text/x-python",
   "name": "python",
   "nbconvert_exporter": "python",
   "pygments_lexer": "ipython3",
   "version": "3.10.11"
  }
 },
 "nbformat": 4,
 "nbformat_minor": 2
}
