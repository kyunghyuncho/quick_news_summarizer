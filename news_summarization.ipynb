{
 "cells": [
  {
   "cell_type": "code",
   "execution_count": null,
   "metadata": {},
   "outputs": [],
   "source": [
    "# install transformers and remove the output\n",
    "!pip install transformers\n",
    "!pip install optimum"
   ]
  },
  {
   "cell_type": "code",
   "execution_count": 2,
   "metadata": {},
   "outputs": [
    {
     "name": "stdout",
     "output_type": "stream",
     "text": [
      "Using cuda\n"
     ]
    }
   ],
   "source": [
    "import torch\n",
    "from transformers import AutoTokenizer, AutoModelForCausalLM, GPTQConfig\n",
    "\n",
    "device = \"cuda\" if torch.cuda.is_available() else \"cpu\"\n",
    "print(f'Using {device}')"
   ]
  },
  {
   "cell_type": "code",
   "execution_count": 68,
   "metadata": {},
   "outputs": [
    {
     "data": {
      "application/vnd.jupyter.widget-view+json": {
       "model_id": "052a8c6c3497485c98ab6777e9c2aa9a",
       "version_major": 2,
       "version_minor": 0
      },
      "text/plain": [
       "tokenizer_config.json:   0%|          | 0.00/40.6k [00:00<?, ?B/s]"
      ]
     },
     "metadata": {},
     "output_type": "display_data"
    },
    {
     "data": {
      "application/vnd.jupyter.widget-view+json": {
       "model_id": "b89d1c9534cb4c1e82decf0b8df704d0",
       "version_major": 2,
       "version_minor": 0
      },
      "text/plain": [
       "tokenizer.model:   0%|          | 0.00/4.24M [00:00<?, ?B/s]"
      ]
     },
     "metadata": {},
     "output_type": "display_data"
    },
    {
     "data": {
      "application/vnd.jupyter.widget-view+json": {
       "model_id": "6b5cfa9fb6cb4cac8805010b52dd3351",
       "version_major": 2,
       "version_minor": 0
      },
      "text/plain": [
       "tokenizer.json:   0%|          | 0.00/17.5M [00:00<?, ?B/s]"
      ]
     },
     "metadata": {},
     "output_type": "display_data"
    },
    {
     "data": {
      "application/vnd.jupyter.widget-view+json": {
       "model_id": "bfc0d7f866fb4d68a5117ce0ae7a48ef",
       "version_major": 2,
       "version_minor": 0
      },
      "text/plain": [
       "special_tokens_map.json:   0%|          | 0.00/636 [00:00<?, ?B/s]"
      ]
     },
     "metadata": {},
     "output_type": "display_data"
    },
    {
     "data": {
      "application/vnd.jupyter.widget-view+json": {
       "model_id": "2bfa33859f704cbdad7367c006a5f3a3",
       "version_major": 2,
       "version_minor": 0
      },
      "text/plain": [
       "Loading checkpoint shards:   0%|          | 0/2 [00:00<?, ?it/s]"
      ]
     },
     "metadata": {},
     "output_type": "display_data"
    }
   ],
   "source": [
    "hf_token = \"hf_YOUR_API_KEY\"\n",
    "\n",
    "tokenizer = AutoTokenizer.from_pretrained(\"google/gemma-1.1-2b-it\", token=hf_token)\n",
    "model = AutoModelForCausalLM.from_pretrained(\"google/gemma-1.1-2b-it\", token=hf_token)"
   ]
  },
  {
   "cell_type": "code",
   "execution_count": 69,
   "metadata": {},
   "outputs": [],
   "source": [
    "# Lower the prceision of the model parameters to reduce memory footprint\n",
    "model = model.half()\n",
    "# push the model to the device\n",
    "model = model.to(device)"
   ]
  },
  {
   "cell_type": "code",
   "execution_count": 70,
   "metadata": {},
   "outputs": [],
   "source": [
    "# use newsapi.org's API to get the latest headlines from wall street journal\n",
    "import requests\n",
    "import json\n",
    "\n",
    "# get the API key from newsapi.org\n",
    "api_key = 'your API key'"
   ]
  },
  {
   "cell_type": "code",
   "execution_count": 71,
   "metadata": {},
   "outputs": [],
   "source": [
    "# get the latest headlines from wall street journal\n",
    "url = f'https://newsapi.org/v2/top-headlines?country=us&language=en&apiKey={api_key}'\n",
    "response = requests.get(url)\n",
    "data = response.json()"
   ]
  },
  {
   "cell_type": "code",
   "execution_count": 84,
   "metadata": {},
   "outputs": [],
   "source": [
    "max_headlines = 20\n",
    "\n",
    "# create a prompt for listing up all the headlines and create a summary\n",
    "prompt = \"# Today's Headlines\\n\\n\"\n",
    "\n",
    "headlines = []\n",
    "for aidx, article in enumerate(data['articles']):\n",
    "    if aidx > max_headlines:\n",
    "        break\n",
    "    if \"Removed\" in article['title']:\n",
    "        continue\n",
    "    new_headline = f\"1. {article['title'].strip()} \"\n",
    "    new_headline += f\"(URL: {str(article['url']).strip()}) \"\n",
    "    new_headline += str(article['description']).strip().replace('\\n', '...')\n",
    "    new_headline += \"\\n\"\n",
    "    prompt += new_headline\n",
    "\n",
    "prompt += \"\\n# Analysis and Today's Recommendations for Our Readers\\n\\n\""
   ]
  },
  {
   "cell_type": "code",
   "execution_count": 85,
   "metadata": {},
   "outputs": [],
   "source": [
    "with torch.no_grad():\n",
    "    input_ids = tokenizer.encode(prompt, return_tensors=\"pt\")\n",
    "    input_ids = input_ids.to(device)\n",
    "    output = model.generate(input_ids, max_length=input_ids.size(1)+512, do_sample=True, temperature=0.9)\n",
    "    output_text = tokenizer.decode(output[0], skip_special_tokens=True)"
   ]
  },
  {
   "cell_type": "code",
   "execution_count": 86,
   "metadata": {},
   "outputs": [
    {
     "data": {
      "text/markdown": [
       "# Today's Headlines\n",
       "\n",
       "1. Latest 2024 election news: Harris heading to Arizona to hammer Trump on abortion policy - The Washington Post (URL: https://www.washingtonpost.com/elections/2024/04/12/election-2024-campaign-updates/) Live updates from the 2024 campaign trail with the latest news on presidential candidates, polls, primaries and more.\n",
       "1. Stocks waver on fears of potential attack by Iran and inflation jitters - CNN (URL: https://www.cnn.com/2024/04/12/investing/stocks-oil-banks-geopolitics/index.html) US stocks fell sharply Friday as Wall Street worried about escalating tension in the Middle East.\n",
       "1. Suspect dead after shootout with police had been arrested, released in March, records show - WREG NewsChannel 3 (URL: https://wreg.com/news/local/suspect-dead-after-shootout-with-police-had-been-arrested-released-in-march-records-show/) MEMPHIS, Tenn. — The 18-year-old suspect killed in a shootout that also killed a Memphis Police officer and wounded three others had been arrested just over a month ago, but was released from jail, records show. A source close to the investigation confirmed t…\n",
       "1. Box Office: ‘Civil War’ Makes $2.9 Million in Previews, Best Ever for an A24 Movie - Variety (URL: https://variety.com/2024/film/box-office/box-office-civil-war-thursday-previews-1235968957/) 'Civil War' makes $2.9 million at the box office in Thursday previews.\n",
       "1. The best allergy products to help you survive this season, according to experts - CNN Underscored (URL: https://www.cnn.com/cnn-underscored/health-fitness/best-allergy-products) It’s allergy season yet again, and these best allergy products will help you stay comfortable — even outdoors — by fending off the effects of pollen.\n",
       "1. Netanyahu meets top officials as fears of Iran attack on Israel grow - BBC.com (URL: https://www.bbc.com/news/world-middle-east-68796363) US officials have told CBS News that Iran is ready to launch a major strike against Israel imminently.\n",
       "1. Former NIH director reveals prostate cancer diagnosis - The Hill (URL: https://thehill.com/policy/healthcare/4590148-francis-collins-nih-director-prostate-cancer/) The former director of the National Institutes of Health (NIH), Francis S. Collins, revealed his prostate cancer diagnosis and detailed his decision to go public with it in an essay published by The Washington Post on Friday.  Collins said he knew his prostat…\n",
       "1. Tiger Woods 1 over, 8 shots back after 1st round at the Masters - ESPN (URL: https://www.espn.com/golf/story/_/id/39927730/tiger-woods-1-8-shots-back-1st-round-masters) Tiger Woods finished his first round at the Masters on Friday morning, carding a 1-over 73 that put him 8 shots behind leader Bryson DeChambeau.\n",
       "1. The Masters leader? It's the 'little bit smarter' version of Bryson DeChambeau - The Athletic (URL: https://theathletic.com/5409714/2024/04/11/masters-bryson-dechambeau-leader/) DeChambeau's first-round 65 has him atop the leaderboard after Day 1 at Augusta National.\n",
       "1. 'Golden Bachelor' couple Gerry Turner and Theresa Nist announce they are divorcing - Good Morning America (URL: https://goodmorningamerica.com/culture/story/golden-bachelor-couple-gerry-turner-theresa-nist-announce-109148023) Gerry Turner and Theresa Nist announced in an interview with \"Good Morning America\" that they are divorcing.\n",
       "1. Conservatives clash with Trump on leaving abortion up to voters - POLITICO (URL: https://www.politico.com/news/2024/04/12/conservatives-trump-abortion-voters-states-00151866) None\n",
       "1. Apple Signal of AI Intent Unleashes $112 Billion Stock Surge - Yahoo Finance (URL: https://finance.yahoo.com/news/apple-signal-ai-intent-unleashes-114945606.html) (Bloomberg) -- The stock market has punished Apple Inc. this year for failing to offer a vision of where its future growth will come from. The shares caught ...\n",
       "1. Why there are 861 roguelike deckbuilders on Steam all of a sudden - Ars Technica (URL: https://arstechnica.com/gaming/2024/04/why-there-are-861-roguelike-deckbuilders-on-steam-all-of-a-sudden/) 9 answers from 8 devs about why combat card games on screens have blown up.\n",
       "1. Dozens of Palestinians killed in Gaza as Hamas official vows to 'break' Israel - Yahoo! Voices (URL: https://www.yahoo.com/news/dozens-palestinians-killed-gaza-hamas-130647886.html) Israeli forces fought Palestinian militants in the north and centre of the Gaza Strip on Friday as Khaled Meshaal, a senior official in Gaza's ruling Hamas...\n",
       "1. Humane Ai Pin reviews: Top 5 common complaints about the 'smartphone killer' - Mashable (URL: https://mashable.com/article/humane-ai-pin-reviews) The critics are being tough on this screenless device.\n",
       "1. Pittsburgh flooded as severe storms hit Ohio Valley, Mid-Atlantic - Axios (URL: https://www.axios.com/2024/04/12/storms-pittsburgh-ohio-valley-flooding) None\n",
       "1. Biden is canceling $7.4 billion in student debt for 277,000 borrowers. Here's who is eligible. - CBS News (URL: https://www.cbsnews.com/news/student-loan-forgiveness-7-4-billion-save-plan-pslf-cbs-news-explains/) The White House is turning to other methods to erase student debt after the Supreme Court blocked its broader effort to forgive loans.\n",
       "1. CDC warns measles poses 'renewed' threat to U.S., Trump and Johnson push ban on noncitizen voting, and Tom Brady floats NFL return - Yahoo! Voices (URL: https://www.yahoo.com/news/cdc-warns-measles-poses-renewed-threat-to-us-trump-and-johnson-push-ban-on-noncitizen-voting-and-tom-brady-floats-nfl-return-122408477.html) The stories you need to start your day: CDC warns of measles spike, the ‘Bridgerton’ Season 3 trailer and more in today’s edition of The Yodel newsletter\n",
       "1. JPMorgan shares slip as outlook overshadows profit rise - Financial Times (URL: https://www.ft.com/content/9270b202-a92d-438d-920d-31c1273c0b2a) Shares in largest US bank fall almost 5% in early trading as investors recalibrate interest rate expectations\n",
       "1. Citigroup tops estimates for first-quarter revenue on better-than-expected Wall Street results - CNBC (URL: https://www.cnbc.com/2024/04/12/citigroup-c-earnings-q1-2024.html) Citigroup posted first-quarter revenue that topped estimates, helped by better-than-expected results in the bank's investment banking and trading operations.\n",
       "\n",
       "# Analysis and Today's Recommendations for Our Readers\n",
       "\n",
       "**Overall Trends:**\n",
       "\n",
       "- Investors are concerned about the potential for escalation in the Middle East and inflation, leading to weakness in US stocks.\n",
       "- The Masters golf tournament is underway with Bryson DeChambeau in the lead.\n",
       "- There is a high volume of news related to student debt, the measles outbreak, and election campaigns.\n",
       "\n",
       "**Specific Recommendations:**\n",
       "\n",
       "**Politics:**\n",
       "\n",
       "- Keep an eye on the evolving situation in the Middle East and its potential impact on geopolitical tensions.\n",
       "- Monitor developments related to student debt and explore potential solutions.\n",
       "- Follow the latest news and policy discussions ahead of the upcoming election.\n",
       "\n",
       "**Business:**\n",
       "\n",
       "- Monitor the stock market performance and adjust your portfolio accordingly.\n",
       "- Consider the implications of rising inflation on your finances.\n",
       "- Stay informed about economic indicators and corporate earnings reports.\n",
       "\n",
       "**Health and Medical:**\n",
       "\n",
       "- Be aware of the rising risk of measles in the United States.\n",
       "- Follow recommendations for staying healthy during severe storms.\n",
       "- Monitor the CDC's updates and recommendations regarding vaccination and public health measures.\n",
       "\n",
       "**Other:**\n",
       "\n",
       "- Stay informed about the latest developments in the entertainment industry, including the upcoming season of \"Bridgerton.\"\n",
       "- Review your financial accounts and budgets to ensure financial stability.\n",
       "- Plan for the upcoming school year and make necessary arrangements."
      ],
      "text/plain": [
       "<IPython.core.display.Markdown object>"
      ]
     },
     "metadata": {},
     "output_type": "display_data"
    }
   ],
   "source": [
    "from IPython.display import display, Markdown, Latex\n",
    "\n",
    "display(Markdown(output_text))"
   ]
  },
  {
   "cell_type": "code",
   "execution_count": null,
   "metadata": {},
   "outputs": [],
   "source": []
  }
 ],
 "metadata": {
  "kernelspec": {
   "display_name": "cloudspace",
   "language": "python",
   "name": "python3"
  },
  "language_info": {
   "codemirror_mode": {
    "name": "ipython",
    "version": 3
   },
   "file_extension": ".py",
   "mimetype": "text/x-python",
   "name": "python",
   "nbconvert_exporter": "python",
   "pygments_lexer": "ipython3",
   "version": "3.10.10"
  }
 },
 "nbformat": 4,
 "nbformat_minor": 2
}
