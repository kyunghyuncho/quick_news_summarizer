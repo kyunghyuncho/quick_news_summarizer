{
 "cells": [
  {
   "cell_type": "code",
   "execution_count": 1,
   "metadata": {},
   "outputs": [
    {
     "name": "stdout",
     "output_type": "stream",
     "text": [
      "/teamspace/studios/this_studio/quick_news_summarizer\n"
     ]
    }
   ],
   "source": [
    "# change the folder to \"./quick_news_summarizer/\"\n",
    "%cd quick_news_summarizer"
   ]
  },
  {
   "cell_type": "code",
   "execution_count": 2,
   "metadata": {},
   "outputs": [
    {
     "name": "stdout",
     "output_type": "stream",
     "text": [
      "Using cuda\n"
     ]
    }
   ],
   "source": [
    "import torch\n",
    "\n",
    "device = \"cuda\" if torch.cuda.is_available() else \"cpu\"\n",
    "print(f'Using {device}')"
   ]
  },
  {
   "cell_type": "code",
   "execution_count": 3,
   "metadata": {},
   "outputs": [],
   "source": [
    "hf_token = open(\"hf_token.txt\", \"r\").read().strip()"
   ]
  },
  {
   "cell_type": "code",
   "execution_count": 4,
   "metadata": {},
   "outputs": [
    {
     "data": {
      "application/vnd.jupyter.widget-view+json": {
       "model_id": "49e32d8f04bd4e1ba0b372ead007050a",
       "version_major": 2,
       "version_minor": 0
      },
      "text/plain": [
       "Loading checkpoint shards:   0%|          | 0/2 [00:00<?, ?it/s]"
      ]
     },
     "metadata": {},
     "output_type": "display_data"
    }
   ],
   "source": [
    "from gemma_summarizer import GemmaSummarizer\n",
    "\n",
    "summarizer = GemmaSummarizer(hf_token, device=device)"
   ]
  },
  {
   "cell_type": "code",
   "execution_count": 13,
   "metadata": {},
   "outputs": [],
   "source": [
    "from newsapi_headlines import NewsAPIHeadlines\n",
    "\n",
    "# get the API key from newsapi.org\n",
    "api_key = open('newsapi_token.txt', 'r').read().strip()"
   ]
  },
  {
   "cell_type": "code",
   "execution_count": 14,
   "metadata": {},
   "outputs": [],
   "source": [
    "headlines_retreiver = NewsAPIHeadlines(api_key)"
   ]
  },
  {
   "cell_type": "code",
   "execution_count": 15,
   "metadata": {},
   "outputs": [],
   "source": [
    "headlines = headlines_retreiver.get_headlines()"
   ]
  },
  {
   "cell_type": "code",
   "execution_count": 16,
   "metadata": {},
   "outputs": [
    {
     "name": "stderr",
     "output_type": "stream",
     "text": [
      "/home/zeus/miniconda3/envs/cloudspace/lib/python3.10/site-packages/transformers/generation/configuration_utils.py:492: UserWarning: `do_sample` is set to `False`. However, `temperature` is set to `0.9` -- this flag is only used in sample-based generation modes. You should set `do_sample=True` or unset `temperature`.\n",
      "  warnings.warn(\n"
     ]
    }
   ],
   "source": [
    "summary, elapsed_time = summarizer.summarize(headlines, max_length=256)"
   ]
  },
  {
   "cell_type": "code",
   "execution_count": 17,
   "metadata": {},
   "outputs": [
    {
     "name": "stdout",
     "output_type": "stream",
     "text": [
      "It took 13.01 seconds to summarize 5910 characters.\n",
      "\n",
      "Summary: The article covers various recent events and their impact on different aspects of life. From the tragic mass stabbing in Sydney to the escalating tensions between Israel and Iran, the news provides a glimpse into current global and political happenings.\n",
      "\n",
      "The article also highlights significant business and technological updates, including Apple's hardware roadmap and the consequences of airline cancellations due to rising tensions. It also explores political and social issues, such as the impact of a hush money scandal and the potential consequences of divorce on celebrity finances.\n",
      "\n",
      "Additionally, the article discusses major sporting events, including Coachella and the NFL, showcasing the latest in entertainment and athletic prowess. It also provides updates on important international events, including the seizure of an Israeli-linked ship by the Iranian Revolutionary Guard.\n",
      "\n",
      "Overall, the article offers a comprehensive and informative overview of current news trends, providing readers with a snapshot of the world's most pressing issues and developments.\n"
     ]
    }
   ],
   "source": [
    "print(f\"It took {elapsed_time:.2f} seconds to summarize {len(response)} characters.\\n\")\n",
    "print(f\"Summary: {summary}\")"
   ]
  },
  {
   "cell_type": "code",
   "execution_count": null,
   "metadata": {},
   "outputs": [],
   "source": []
  }
 ],
 "metadata": {
  "kernelspec": {
   "display_name": "cloudspace",
   "language": "python",
   "name": "python3"
  },
  "language_info": {
   "codemirror_mode": {
    "name": "ipython",
    "version": 3
   },
   "file_extension": ".py",
   "mimetype": "text/x-python",
   "name": "python",
   "nbconvert_exporter": "python",
   "pygments_lexer": "ipython3",
   "version": "3.10.10"
  }
 },
 "nbformat": 4,
 "nbformat_minor": 2
}
